{
 "cells": [
  {
   "cell_type": "markdown",
   "source": [
    "# Test out Hyperparameter tuning\n"
   ],
   "metadata": {
    "collapsed": false
   },
   "id": "4c88083632cf9740"
  },
  {
   "cell_type": "code",
   "outputs": [],
   "source": [
    "import sys\n",
    "import os\n",
    "sys.path.append(os.path.abspath('..'))"
   ],
   "metadata": {
    "collapsed": false,
    "ExecuteTime": {
     "end_time": "2024-02-08T19:21:08.578694Z",
     "start_time": "2024-02-08T19:21:08.568810Z"
    }
   },
   "id": "b7f19ac8334bb81e",
   "execution_count": 2
  },
  {
   "cell_type": "code",
   "outputs": [],
   "source": [
    "from venus_ml import HyperparameterTuner, RandomForest, VenusDataset, BaseMLP\n",
    "from torch.optim import SGD\n",
    "from torch.nn import MSELoss"
   ],
   "metadata": {
    "collapsed": false,
    "ExecuteTime": {
     "end_time": "2024-02-08T19:21:18.458797Z",
     "start_time": "2024-02-08T19:21:09.036687Z"
    }
   },
   "id": "f62313f9fcf6bcb5",
   "execution_count": 3
  },
  {
   "cell_type": "markdown",
   "source": [
    "### Get dataset"
   ],
   "metadata": {
    "collapsed": false
   },
   "id": "e05494cb399ae139"
  },
  {
   "cell_type": "code",
   "outputs": [
    {
     "name": "stdout",
     "output_type": "stream",
     "text": [
      "torch.Size([10454, 4]) torch.Size([10454, 1])\n"
     ]
    }
   ],
   "source": [
    "data_set_config = {\n",
    "    \"file_path\": \"../accumulated_weekend_data_2023_02_27.parquet\",\n",
    "    \"input_columns\": [\"inj_mbar_mean\", \"bias_v_mean\", \"bias_i_mean\", \"extraction_i_mean\"],\n",
    "    \"output_columns\": [\"fcv1_i_mean\"],\n",
    "    \"run_selection\": (5.0, 6.0, 6.5, 7.0, 7.5, 8.0, 9.0, 10.0)\n",
    "}\n",
    "dataset = VenusDataset(**data_set_config)\n",
    "X, y = dataset.to_tensor()\n",
    "# y = y.ravel()\n",
    "print(X.shape, y.shape)"
   ],
   "metadata": {
    "collapsed": false,
    "ExecuteTime": {
     "end_time": "2024-02-06T00:28:36.018286Z",
     "start_time": "2024-02-06T00:28:35.975792Z"
    }
   },
   "id": "9f69b94cb2262e24",
   "execution_count": 3
  },
  {
   "cell_type": "markdown",
   "source": [
    "### Set up sklearn model"
   ],
   "metadata": {
    "collapsed": false
   },
   "id": "128dd1ee268194b6"
  },
  {
   "cell_type": "code",
   "outputs": [],
   "source": [
    "hyps = {\n",
    "    \"n_estimators\": 100\n",
    "}\n",
    "sk_model = RandomForest(hyps)\n",
    "sk_param_grid = {\n",
    "    \"n_estimators\": [25, 100, 200],\n",
    "}"
   ],
   "metadata": {
    "collapsed": false,
    "ExecuteTime": {
     "end_time": "2024-02-06T00:28:36.018504Z",
     "start_time": "2024-02-06T00:28:36.017068Z"
    }
   },
   "id": "82be63572ce40a32",
   "execution_count": 4
  },
  {
   "cell_type": "markdown",
   "source": [
    "### Set up simple pytorch model"
   ],
   "metadata": {
    "collapsed": false
   },
   "id": "e806f951a03be04a"
  },
  {
   "cell_type": "code",
   "outputs": [],
   "source": [
    "hyps = {\n",
    "    \"layer_sizes\": [4, 16, 16, 16, 1]\n",
    "}\n",
    "optimizer_params = {\n",
    "    \"lr\": 1e-3\n",
    "}\n",
    "torch_model = BaseMLP(hyps, optimizer_params, SGD, MSELoss)\n",
    "torch_param_grid = {\n",
    "    \"lr\": [1e-1, 1e-2, 1e-3, 1e-4, 1e-5],\n",
    "    \"max_epochs\": [10, 20, 50],\n",
    "}"
   ],
   "metadata": {
    "collapsed": false,
    "ExecuteTime": {
     "end_time": "2024-02-06T00:28:36.179217Z",
     "start_time": "2024-02-06T00:28:36.020526Z"
    }
   },
   "id": "6225e9a6f7605bf9",
   "execution_count": 5
  },
  {
   "cell_type": "markdown",
   "source": [
    "### Initialize Tuners"
   ],
   "metadata": {
    "collapsed": false
   },
   "id": "cbf70fdee0914c7c"
  },
  {
   "cell_type": "code",
   "outputs": [],
   "source": [
    "sk_tuner = HyperparameterTuner(sk_model, sk_param_grid, verbosity=3)\n",
    "torch_tuner = HyperparameterTuner(torch_model, torch_param_grid, verbosity=3)"
   ],
   "metadata": {
    "collapsed": false,
    "ExecuteTime": {
     "end_time": "2024-02-06T00:28:36.181845Z",
     "start_time": "2024-02-06T00:28:36.179828Z"
    }
   },
   "id": "c5183a04851280a1",
   "execution_count": 6
  },
  {
   "cell_type": "markdown",
   "source": [
    "### Run Sklearn Tuner"
   ],
   "metadata": {
    "collapsed": false
   },
   "id": "c5a0a7aac406a7ed"
  },
  {
   "cell_type": "code",
   "outputs": [
    {
     "name": "stdout",
     "output_type": "stream",
     "text": [
      "Fitting 5 folds for each of 3 candidates, totalling 15 fits\n",
      "[CV 1/5] END ...................n_estimators=25;, score=0.939 total time=   0.4s\n",
      "[CV 2/5] END ...................n_estimators=25;, score=0.908 total time=   0.4s\n",
      "[CV 3/5] END ..................n_estimators=25;, score=-0.018 total time=   0.4s\n",
      "[CV 4/5] END ...................n_estimators=25;, score=0.502 total time=   0.4s\n",
      "[CV 5/5] END ...................n_estimators=25;, score=0.864 total time=   0.4s\n",
      "[CV 1/5] END ..................n_estimators=100;, score=0.943 total time=   1.4s\n",
      "[CV 2/5] END ..................n_estimators=100;, score=0.911 total time=   1.4s\n",
      "[CV 3/5] END ..................n_estimators=100;, score=0.005 total time=   1.5s\n",
      "[CV 4/5] END ..................n_estimators=100;, score=0.520 total time=   1.4s\n",
      "[CV 5/5] END ..................n_estimators=100;, score=0.865 total time=   1.4s\n",
      "[CV 1/5] END ..................n_estimators=200;, score=0.942 total time=   2.9s\n",
      "[CV 2/5] END ..................n_estimators=200;, score=0.911 total time=   2.9s\n",
      "[CV 3/5] END ..................n_estimators=200;, score=0.005 total time=   3.0s\n",
      "[CV 4/5] END ..................n_estimators=200;, score=0.526 total time=   2.9s\n",
      "[CV 5/5] END ..................n_estimators=200;, score=0.865 total time=   2.9s\n",
      "Best model hyperparameters:\n",
      "n_estimators: 200\n"
     ]
    }
   ],
   "source": [
    "sk_y = y.ravel()\n",
    "sk_tuner.tune(X, sk_y)"
   ],
   "metadata": {
    "collapsed": false,
    "ExecuteTime": {
     "end_time": "2024-02-06T00:29:03.669694Z",
     "start_time": "2024-02-06T00:28:36.182301Z"
    }
   },
   "id": "320b07b723fef114",
   "execution_count": 7
  },
  {
   "cell_type": "markdown",
   "source": [
    "### Run Torch Tuner"
   ],
   "metadata": {
    "collapsed": false
   },
   "id": "343698b4e505d5dc"
  },
  {
   "cell_type": "code",
   "outputs": [
    {
     "name": "stdout",
     "output_type": "stream",
     "text": [
      "Fitting 5 folds for each of 15 candidates, totalling 75 fits\n",
      "[CV 1/5] END ...............lr=0.1, max_epochs=10;, score=nan total time=   0.3s\n"
     ]
    },
    {
     "name": "stderr",
     "output_type": "stream",
     "text": [
      "/Users/ezraapple/miniforge3/envs/berkeley_lab/lib/python3.11/site-packages/sklearn/model_selection/_validation.py:988: UserWarning: Scoring failed. The score on this train-test partition for these parameters will be set to nan. Details: \n",
      "Traceback (most recent call last):\n",
      "  File \"/Users/ezraapple/miniforge3/envs/berkeley_lab/lib/python3.11/site-packages/sklearn/model_selection/_validation.py\", line 977, in _score\n",
      "    scores = scorer(estimator, X_test, y_test, **score_params)\n",
      "             ^^^^^^^^^^^^^^^^^^^^^^^^^^^^^^^^^^^^^^^^^^^^^^^^^\n",
      "  File \"/Users/ezraapple/miniforge3/envs/berkeley_lab/lib/python3.11/site-packages/sklearn/metrics/_scorer.py\", line 415, in __call__\n",
      "    return estimator.score(*args, **kwargs)\n",
      "           ^^^^^^^^^^^^^^^^^^^^^^^^^^^^^^^^\n",
      "  File \"/Users/ezraapple/miniforge3/envs/berkeley_lab/lib/python3.11/site-packages/sklearn/base.py\", line 849, in score\n",
      "    return r2_score(y, y_pred, sample_weight=sample_weight)\n",
      "           ^^^^^^^^^^^^^^^^^^^^^^^^^^^^^^^^^^^^^^^^^^^^^^^^\n",
      "  File \"/Users/ezraapple/miniforge3/envs/berkeley_lab/lib/python3.11/site-packages/sklearn/utils/_param_validation.py\", line 213, in wrapper\n",
      "    return func(*args, **kwargs)\n",
      "           ^^^^^^^^^^^^^^^^^^^^^\n",
      "  File \"/Users/ezraapple/miniforge3/envs/berkeley_lab/lib/python3.11/site-packages/sklearn/metrics/_regression.py\", line 1180, in r2_score\n",
      "    y_type, y_true, y_pred, multioutput = _check_reg_targets(\n",
      "                                          ^^^^^^^^^^^^^^^^^^^\n",
      "  File \"/Users/ezraapple/miniforge3/envs/berkeley_lab/lib/python3.11/site-packages/sklearn/metrics/_regression.py\", line 104, in _check_reg_targets\n",
      "    y_pred = check_array(y_pred, ensure_2d=False, dtype=dtype)\n",
      "             ^^^^^^^^^^^^^^^^^^^^^^^^^^^^^^^^^^^^^^^^^^^^^^^^^\n",
      "  File \"/Users/ezraapple/miniforge3/envs/berkeley_lab/lib/python3.11/site-packages/sklearn/utils/validation.py\", line 1003, in check_array\n",
      "    _assert_all_finite(\n",
      "  File \"/Users/ezraapple/miniforge3/envs/berkeley_lab/lib/python3.11/site-packages/sklearn/utils/validation.py\", line 126, in _assert_all_finite\n",
      "    _assert_all_finite_element_wise(\n",
      "  File \"/Users/ezraapple/miniforge3/envs/berkeley_lab/lib/python3.11/site-packages/sklearn/utils/validation.py\", line 175, in _assert_all_finite_element_wise\n",
      "    raise ValueError(msg_err)\n",
      "ValueError: Input contains NaN.\n",
      "\n",
      "  warnings.warn(\n"
     ]
    },
    {
     "name": "stdout",
     "output_type": "stream",
     "text": [
      "[CV 2/5] END ...............lr=0.1, max_epochs=10;, score=nan total time=   0.2s\n"
     ]
    },
    {
     "name": "stderr",
     "output_type": "stream",
     "text": [
      "/Users/ezraapple/miniforge3/envs/berkeley_lab/lib/python3.11/site-packages/sklearn/model_selection/_validation.py:988: UserWarning: Scoring failed. The score on this train-test partition for these parameters will be set to nan. Details: \n",
      "Traceback (most recent call last):\n",
      "  File \"/Users/ezraapple/miniforge3/envs/berkeley_lab/lib/python3.11/site-packages/sklearn/model_selection/_validation.py\", line 977, in _score\n",
      "    scores = scorer(estimator, X_test, y_test, **score_params)\n",
      "             ^^^^^^^^^^^^^^^^^^^^^^^^^^^^^^^^^^^^^^^^^^^^^^^^^\n",
      "  File \"/Users/ezraapple/miniforge3/envs/berkeley_lab/lib/python3.11/site-packages/sklearn/metrics/_scorer.py\", line 415, in __call__\n",
      "    return estimator.score(*args, **kwargs)\n",
      "           ^^^^^^^^^^^^^^^^^^^^^^^^^^^^^^^^\n",
      "  File \"/Users/ezraapple/miniforge3/envs/berkeley_lab/lib/python3.11/site-packages/sklearn/base.py\", line 849, in score\n",
      "    return r2_score(y, y_pred, sample_weight=sample_weight)\n",
      "           ^^^^^^^^^^^^^^^^^^^^^^^^^^^^^^^^^^^^^^^^^^^^^^^^\n",
      "  File \"/Users/ezraapple/miniforge3/envs/berkeley_lab/lib/python3.11/site-packages/sklearn/utils/_param_validation.py\", line 213, in wrapper\n",
      "    return func(*args, **kwargs)\n",
      "           ^^^^^^^^^^^^^^^^^^^^^\n",
      "  File \"/Users/ezraapple/miniforge3/envs/berkeley_lab/lib/python3.11/site-packages/sklearn/metrics/_regression.py\", line 1180, in r2_score\n",
      "    y_type, y_true, y_pred, multioutput = _check_reg_targets(\n",
      "                                          ^^^^^^^^^^^^^^^^^^^\n",
      "  File \"/Users/ezraapple/miniforge3/envs/berkeley_lab/lib/python3.11/site-packages/sklearn/metrics/_regression.py\", line 104, in _check_reg_targets\n",
      "    y_pred = check_array(y_pred, ensure_2d=False, dtype=dtype)\n",
      "             ^^^^^^^^^^^^^^^^^^^^^^^^^^^^^^^^^^^^^^^^^^^^^^^^^\n",
      "  File \"/Users/ezraapple/miniforge3/envs/berkeley_lab/lib/python3.11/site-packages/sklearn/utils/validation.py\", line 1003, in check_array\n",
      "    _assert_all_finite(\n",
      "  File \"/Users/ezraapple/miniforge3/envs/berkeley_lab/lib/python3.11/site-packages/sklearn/utils/validation.py\", line 126, in _assert_all_finite\n",
      "    _assert_all_finite_element_wise(\n",
      "  File \"/Users/ezraapple/miniforge3/envs/berkeley_lab/lib/python3.11/site-packages/sklearn/utils/validation.py\", line 175, in _assert_all_finite_element_wise\n",
      "    raise ValueError(msg_err)\n",
      "ValueError: Input contains NaN.\n",
      "\n",
      "  warnings.warn(\n"
     ]
    },
    {
     "name": "stdout",
     "output_type": "stream",
     "text": [
      "[CV 3/5] END ...............lr=0.1, max_epochs=10;, score=nan total time=   0.2s\n"
     ]
    },
    {
     "name": "stderr",
     "output_type": "stream",
     "text": [
      "/Users/ezraapple/miniforge3/envs/berkeley_lab/lib/python3.11/site-packages/sklearn/model_selection/_validation.py:988: UserWarning: Scoring failed. The score on this train-test partition for these parameters will be set to nan. Details: \n",
      "Traceback (most recent call last):\n",
      "  File \"/Users/ezraapple/miniforge3/envs/berkeley_lab/lib/python3.11/site-packages/sklearn/model_selection/_validation.py\", line 977, in _score\n",
      "    scores = scorer(estimator, X_test, y_test, **score_params)\n",
      "             ^^^^^^^^^^^^^^^^^^^^^^^^^^^^^^^^^^^^^^^^^^^^^^^^^\n",
      "  File \"/Users/ezraapple/miniforge3/envs/berkeley_lab/lib/python3.11/site-packages/sklearn/metrics/_scorer.py\", line 415, in __call__\n",
      "    return estimator.score(*args, **kwargs)\n",
      "           ^^^^^^^^^^^^^^^^^^^^^^^^^^^^^^^^\n",
      "  File \"/Users/ezraapple/miniforge3/envs/berkeley_lab/lib/python3.11/site-packages/sklearn/base.py\", line 849, in score\n",
      "    return r2_score(y, y_pred, sample_weight=sample_weight)\n",
      "           ^^^^^^^^^^^^^^^^^^^^^^^^^^^^^^^^^^^^^^^^^^^^^^^^\n",
      "  File \"/Users/ezraapple/miniforge3/envs/berkeley_lab/lib/python3.11/site-packages/sklearn/utils/_param_validation.py\", line 213, in wrapper\n",
      "    return func(*args, **kwargs)\n",
      "           ^^^^^^^^^^^^^^^^^^^^^\n",
      "  File \"/Users/ezraapple/miniforge3/envs/berkeley_lab/lib/python3.11/site-packages/sklearn/metrics/_regression.py\", line 1180, in r2_score\n",
      "    y_type, y_true, y_pred, multioutput = _check_reg_targets(\n",
      "                                          ^^^^^^^^^^^^^^^^^^^\n",
      "  File \"/Users/ezraapple/miniforge3/envs/berkeley_lab/lib/python3.11/site-packages/sklearn/metrics/_regression.py\", line 104, in _check_reg_targets\n",
      "    y_pred = check_array(y_pred, ensure_2d=False, dtype=dtype)\n",
      "             ^^^^^^^^^^^^^^^^^^^^^^^^^^^^^^^^^^^^^^^^^^^^^^^^^\n",
      "  File \"/Users/ezraapple/miniforge3/envs/berkeley_lab/lib/python3.11/site-packages/sklearn/utils/validation.py\", line 1003, in check_array\n",
      "    _assert_all_finite(\n",
      "  File \"/Users/ezraapple/miniforge3/envs/berkeley_lab/lib/python3.11/site-packages/sklearn/utils/validation.py\", line 126, in _assert_all_finite\n",
      "    _assert_all_finite_element_wise(\n",
      "  File \"/Users/ezraapple/miniforge3/envs/berkeley_lab/lib/python3.11/site-packages/sklearn/utils/validation.py\", line 175, in _assert_all_finite_element_wise\n",
      "    raise ValueError(msg_err)\n",
      "ValueError: Input contains NaN.\n",
      "\n",
      "  warnings.warn(\n"
     ]
    },
    {
     "name": "stdout",
     "output_type": "stream",
     "text": [
      "[CV 4/5] END ...............lr=0.1, max_epochs=10;, score=nan total time=   0.2s\n"
     ]
    },
    {
     "name": "stderr",
     "output_type": "stream",
     "text": [
      "/Users/ezraapple/miniforge3/envs/berkeley_lab/lib/python3.11/site-packages/sklearn/model_selection/_validation.py:988: UserWarning: Scoring failed. The score on this train-test partition for these parameters will be set to nan. Details: \n",
      "Traceback (most recent call last):\n",
      "  File \"/Users/ezraapple/miniforge3/envs/berkeley_lab/lib/python3.11/site-packages/sklearn/model_selection/_validation.py\", line 977, in _score\n",
      "    scores = scorer(estimator, X_test, y_test, **score_params)\n",
      "             ^^^^^^^^^^^^^^^^^^^^^^^^^^^^^^^^^^^^^^^^^^^^^^^^^\n",
      "  File \"/Users/ezraapple/miniforge3/envs/berkeley_lab/lib/python3.11/site-packages/sklearn/metrics/_scorer.py\", line 415, in __call__\n",
      "    return estimator.score(*args, **kwargs)\n",
      "           ^^^^^^^^^^^^^^^^^^^^^^^^^^^^^^^^\n",
      "  File \"/Users/ezraapple/miniforge3/envs/berkeley_lab/lib/python3.11/site-packages/sklearn/base.py\", line 849, in score\n",
      "    return r2_score(y, y_pred, sample_weight=sample_weight)\n",
      "           ^^^^^^^^^^^^^^^^^^^^^^^^^^^^^^^^^^^^^^^^^^^^^^^^\n",
      "  File \"/Users/ezraapple/miniforge3/envs/berkeley_lab/lib/python3.11/site-packages/sklearn/utils/_param_validation.py\", line 213, in wrapper\n",
      "    return func(*args, **kwargs)\n",
      "           ^^^^^^^^^^^^^^^^^^^^^\n",
      "  File \"/Users/ezraapple/miniforge3/envs/berkeley_lab/lib/python3.11/site-packages/sklearn/metrics/_regression.py\", line 1180, in r2_score\n",
      "    y_type, y_true, y_pred, multioutput = _check_reg_targets(\n",
      "                                          ^^^^^^^^^^^^^^^^^^^\n",
      "  File \"/Users/ezraapple/miniforge3/envs/berkeley_lab/lib/python3.11/site-packages/sklearn/metrics/_regression.py\", line 104, in _check_reg_targets\n",
      "    y_pred = check_array(y_pred, ensure_2d=False, dtype=dtype)\n",
      "             ^^^^^^^^^^^^^^^^^^^^^^^^^^^^^^^^^^^^^^^^^^^^^^^^^\n",
      "  File \"/Users/ezraapple/miniforge3/envs/berkeley_lab/lib/python3.11/site-packages/sklearn/utils/validation.py\", line 1003, in check_array\n",
      "    _assert_all_finite(\n",
      "  File \"/Users/ezraapple/miniforge3/envs/berkeley_lab/lib/python3.11/site-packages/sklearn/utils/validation.py\", line 126, in _assert_all_finite\n",
      "    _assert_all_finite_element_wise(\n",
      "  File \"/Users/ezraapple/miniforge3/envs/berkeley_lab/lib/python3.11/site-packages/sklearn/utils/validation.py\", line 175, in _assert_all_finite_element_wise\n",
      "    raise ValueError(msg_err)\n",
      "ValueError: Input contains NaN.\n",
      "\n",
      "  warnings.warn(\n"
     ]
    },
    {
     "name": "stdout",
     "output_type": "stream",
     "text": [
      "[CV 5/5] END ...............lr=0.1, max_epochs=10;, score=nan total time=   0.2s\n"
     ]
    },
    {
     "name": "stderr",
     "output_type": "stream",
     "text": [
      "/Users/ezraapple/miniforge3/envs/berkeley_lab/lib/python3.11/site-packages/sklearn/model_selection/_validation.py:988: UserWarning: Scoring failed. The score on this train-test partition for these parameters will be set to nan. Details: \n",
      "Traceback (most recent call last):\n",
      "  File \"/Users/ezraapple/miniforge3/envs/berkeley_lab/lib/python3.11/site-packages/sklearn/model_selection/_validation.py\", line 977, in _score\n",
      "    scores = scorer(estimator, X_test, y_test, **score_params)\n",
      "             ^^^^^^^^^^^^^^^^^^^^^^^^^^^^^^^^^^^^^^^^^^^^^^^^^\n",
      "  File \"/Users/ezraapple/miniforge3/envs/berkeley_lab/lib/python3.11/site-packages/sklearn/metrics/_scorer.py\", line 415, in __call__\n",
      "    return estimator.score(*args, **kwargs)\n",
      "           ^^^^^^^^^^^^^^^^^^^^^^^^^^^^^^^^\n",
      "  File \"/Users/ezraapple/miniforge3/envs/berkeley_lab/lib/python3.11/site-packages/sklearn/base.py\", line 849, in score\n",
      "    return r2_score(y, y_pred, sample_weight=sample_weight)\n",
      "           ^^^^^^^^^^^^^^^^^^^^^^^^^^^^^^^^^^^^^^^^^^^^^^^^\n",
      "  File \"/Users/ezraapple/miniforge3/envs/berkeley_lab/lib/python3.11/site-packages/sklearn/utils/_param_validation.py\", line 213, in wrapper\n",
      "    return func(*args, **kwargs)\n",
      "           ^^^^^^^^^^^^^^^^^^^^^\n",
      "  File \"/Users/ezraapple/miniforge3/envs/berkeley_lab/lib/python3.11/site-packages/sklearn/metrics/_regression.py\", line 1180, in r2_score\n",
      "    y_type, y_true, y_pred, multioutput = _check_reg_targets(\n",
      "                                          ^^^^^^^^^^^^^^^^^^^\n",
      "  File \"/Users/ezraapple/miniforge3/envs/berkeley_lab/lib/python3.11/site-packages/sklearn/metrics/_regression.py\", line 104, in _check_reg_targets\n",
      "    y_pred = check_array(y_pred, ensure_2d=False, dtype=dtype)\n",
      "             ^^^^^^^^^^^^^^^^^^^^^^^^^^^^^^^^^^^^^^^^^^^^^^^^^\n",
      "  File \"/Users/ezraapple/miniforge3/envs/berkeley_lab/lib/python3.11/site-packages/sklearn/utils/validation.py\", line 1003, in check_array\n",
      "    _assert_all_finite(\n",
      "  File \"/Users/ezraapple/miniforge3/envs/berkeley_lab/lib/python3.11/site-packages/sklearn/utils/validation.py\", line 126, in _assert_all_finite\n",
      "    _assert_all_finite_element_wise(\n",
      "  File \"/Users/ezraapple/miniforge3/envs/berkeley_lab/lib/python3.11/site-packages/sklearn/utils/validation.py\", line 175, in _assert_all_finite_element_wise\n",
      "    raise ValueError(msg_err)\n",
      "ValueError: Input contains NaN.\n",
      "\n",
      "  warnings.warn(\n"
     ]
    },
    {
     "name": "stdout",
     "output_type": "stream",
     "text": [
      "[CV 1/5] END ...............lr=0.1, max_epochs=20;, score=nan total time=   0.5s\n"
     ]
    },
    {
     "name": "stderr",
     "output_type": "stream",
     "text": [
      "/Users/ezraapple/miniforge3/envs/berkeley_lab/lib/python3.11/site-packages/sklearn/model_selection/_validation.py:988: UserWarning: Scoring failed. The score on this train-test partition for these parameters will be set to nan. Details: \n",
      "Traceback (most recent call last):\n",
      "  File \"/Users/ezraapple/miniforge3/envs/berkeley_lab/lib/python3.11/site-packages/sklearn/model_selection/_validation.py\", line 977, in _score\n",
      "    scores = scorer(estimator, X_test, y_test, **score_params)\n",
      "             ^^^^^^^^^^^^^^^^^^^^^^^^^^^^^^^^^^^^^^^^^^^^^^^^^\n",
      "  File \"/Users/ezraapple/miniforge3/envs/berkeley_lab/lib/python3.11/site-packages/sklearn/metrics/_scorer.py\", line 415, in __call__\n",
      "    return estimator.score(*args, **kwargs)\n",
      "           ^^^^^^^^^^^^^^^^^^^^^^^^^^^^^^^^\n",
      "  File \"/Users/ezraapple/miniforge3/envs/berkeley_lab/lib/python3.11/site-packages/sklearn/base.py\", line 849, in score\n",
      "    return r2_score(y, y_pred, sample_weight=sample_weight)\n",
      "           ^^^^^^^^^^^^^^^^^^^^^^^^^^^^^^^^^^^^^^^^^^^^^^^^\n",
      "  File \"/Users/ezraapple/miniforge3/envs/berkeley_lab/lib/python3.11/site-packages/sklearn/utils/_param_validation.py\", line 213, in wrapper\n",
      "    return func(*args, **kwargs)\n",
      "           ^^^^^^^^^^^^^^^^^^^^^\n",
      "  File \"/Users/ezraapple/miniforge3/envs/berkeley_lab/lib/python3.11/site-packages/sklearn/metrics/_regression.py\", line 1180, in r2_score\n",
      "    y_type, y_true, y_pred, multioutput = _check_reg_targets(\n",
      "                                          ^^^^^^^^^^^^^^^^^^^\n",
      "  File \"/Users/ezraapple/miniforge3/envs/berkeley_lab/lib/python3.11/site-packages/sklearn/metrics/_regression.py\", line 104, in _check_reg_targets\n",
      "    y_pred = check_array(y_pred, ensure_2d=False, dtype=dtype)\n",
      "             ^^^^^^^^^^^^^^^^^^^^^^^^^^^^^^^^^^^^^^^^^^^^^^^^^\n",
      "  File \"/Users/ezraapple/miniforge3/envs/berkeley_lab/lib/python3.11/site-packages/sklearn/utils/validation.py\", line 1003, in check_array\n",
      "    _assert_all_finite(\n",
      "  File \"/Users/ezraapple/miniforge3/envs/berkeley_lab/lib/python3.11/site-packages/sklearn/utils/validation.py\", line 126, in _assert_all_finite\n",
      "    _assert_all_finite_element_wise(\n",
      "  File \"/Users/ezraapple/miniforge3/envs/berkeley_lab/lib/python3.11/site-packages/sklearn/utils/validation.py\", line 175, in _assert_all_finite_element_wise\n",
      "    raise ValueError(msg_err)\n",
      "ValueError: Input contains NaN.\n",
      "\n",
      "  warnings.warn(\n"
     ]
    },
    {
     "name": "stdout",
     "output_type": "stream",
     "text": [
      "[CV 2/5] END ...............lr=0.1, max_epochs=20;, score=nan total time=   0.5s\n"
     ]
    },
    {
     "name": "stderr",
     "output_type": "stream",
     "text": [
      "/Users/ezraapple/miniforge3/envs/berkeley_lab/lib/python3.11/site-packages/sklearn/model_selection/_validation.py:988: UserWarning: Scoring failed. The score on this train-test partition for these parameters will be set to nan. Details: \n",
      "Traceback (most recent call last):\n",
      "  File \"/Users/ezraapple/miniforge3/envs/berkeley_lab/lib/python3.11/site-packages/sklearn/model_selection/_validation.py\", line 977, in _score\n",
      "    scores = scorer(estimator, X_test, y_test, **score_params)\n",
      "             ^^^^^^^^^^^^^^^^^^^^^^^^^^^^^^^^^^^^^^^^^^^^^^^^^\n",
      "  File \"/Users/ezraapple/miniforge3/envs/berkeley_lab/lib/python3.11/site-packages/sklearn/metrics/_scorer.py\", line 415, in __call__\n",
      "    return estimator.score(*args, **kwargs)\n",
      "           ^^^^^^^^^^^^^^^^^^^^^^^^^^^^^^^^\n",
      "  File \"/Users/ezraapple/miniforge3/envs/berkeley_lab/lib/python3.11/site-packages/sklearn/base.py\", line 849, in score\n",
      "    return r2_score(y, y_pred, sample_weight=sample_weight)\n",
      "           ^^^^^^^^^^^^^^^^^^^^^^^^^^^^^^^^^^^^^^^^^^^^^^^^\n",
      "  File \"/Users/ezraapple/miniforge3/envs/berkeley_lab/lib/python3.11/site-packages/sklearn/utils/_param_validation.py\", line 213, in wrapper\n",
      "    return func(*args, **kwargs)\n",
      "           ^^^^^^^^^^^^^^^^^^^^^\n",
      "  File \"/Users/ezraapple/miniforge3/envs/berkeley_lab/lib/python3.11/site-packages/sklearn/metrics/_regression.py\", line 1180, in r2_score\n",
      "    y_type, y_true, y_pred, multioutput = _check_reg_targets(\n",
      "                                          ^^^^^^^^^^^^^^^^^^^\n",
      "  File \"/Users/ezraapple/miniforge3/envs/berkeley_lab/lib/python3.11/site-packages/sklearn/metrics/_regression.py\", line 104, in _check_reg_targets\n",
      "    y_pred = check_array(y_pred, ensure_2d=False, dtype=dtype)\n",
      "             ^^^^^^^^^^^^^^^^^^^^^^^^^^^^^^^^^^^^^^^^^^^^^^^^^\n",
      "  File \"/Users/ezraapple/miniforge3/envs/berkeley_lab/lib/python3.11/site-packages/sklearn/utils/validation.py\", line 1003, in check_array\n",
      "    _assert_all_finite(\n",
      "  File \"/Users/ezraapple/miniforge3/envs/berkeley_lab/lib/python3.11/site-packages/sklearn/utils/validation.py\", line 126, in _assert_all_finite\n",
      "    _assert_all_finite_element_wise(\n",
      "  File \"/Users/ezraapple/miniforge3/envs/berkeley_lab/lib/python3.11/site-packages/sklearn/utils/validation.py\", line 175, in _assert_all_finite_element_wise\n",
      "    raise ValueError(msg_err)\n",
      "ValueError: Input contains NaN.\n",
      "\n",
      "  warnings.warn(\n"
     ]
    },
    {
     "name": "stdout",
     "output_type": "stream",
     "text": [
      "[CV 3/5] END ...............lr=0.1, max_epochs=20;, score=nan total time=   0.5s\n"
     ]
    },
    {
     "name": "stderr",
     "output_type": "stream",
     "text": [
      "/Users/ezraapple/miniforge3/envs/berkeley_lab/lib/python3.11/site-packages/sklearn/model_selection/_validation.py:988: UserWarning: Scoring failed. The score on this train-test partition for these parameters will be set to nan. Details: \n",
      "Traceback (most recent call last):\n",
      "  File \"/Users/ezraapple/miniforge3/envs/berkeley_lab/lib/python3.11/site-packages/sklearn/model_selection/_validation.py\", line 977, in _score\n",
      "    scores = scorer(estimator, X_test, y_test, **score_params)\n",
      "             ^^^^^^^^^^^^^^^^^^^^^^^^^^^^^^^^^^^^^^^^^^^^^^^^^\n",
      "  File \"/Users/ezraapple/miniforge3/envs/berkeley_lab/lib/python3.11/site-packages/sklearn/metrics/_scorer.py\", line 415, in __call__\n",
      "    return estimator.score(*args, **kwargs)\n",
      "           ^^^^^^^^^^^^^^^^^^^^^^^^^^^^^^^^\n",
      "  File \"/Users/ezraapple/miniforge3/envs/berkeley_lab/lib/python3.11/site-packages/sklearn/base.py\", line 849, in score\n",
      "    return r2_score(y, y_pred, sample_weight=sample_weight)\n",
      "           ^^^^^^^^^^^^^^^^^^^^^^^^^^^^^^^^^^^^^^^^^^^^^^^^\n",
      "  File \"/Users/ezraapple/miniforge3/envs/berkeley_lab/lib/python3.11/site-packages/sklearn/utils/_param_validation.py\", line 213, in wrapper\n",
      "    return func(*args, **kwargs)\n",
      "           ^^^^^^^^^^^^^^^^^^^^^\n",
      "  File \"/Users/ezraapple/miniforge3/envs/berkeley_lab/lib/python3.11/site-packages/sklearn/metrics/_regression.py\", line 1180, in r2_score\n",
      "    y_type, y_true, y_pred, multioutput = _check_reg_targets(\n",
      "                                          ^^^^^^^^^^^^^^^^^^^\n",
      "  File \"/Users/ezraapple/miniforge3/envs/berkeley_lab/lib/python3.11/site-packages/sklearn/metrics/_regression.py\", line 104, in _check_reg_targets\n",
      "    y_pred = check_array(y_pred, ensure_2d=False, dtype=dtype)\n",
      "             ^^^^^^^^^^^^^^^^^^^^^^^^^^^^^^^^^^^^^^^^^^^^^^^^^\n",
      "  File \"/Users/ezraapple/miniforge3/envs/berkeley_lab/lib/python3.11/site-packages/sklearn/utils/validation.py\", line 1003, in check_array\n",
      "    _assert_all_finite(\n",
      "  File \"/Users/ezraapple/miniforge3/envs/berkeley_lab/lib/python3.11/site-packages/sklearn/utils/validation.py\", line 126, in _assert_all_finite\n",
      "    _assert_all_finite_element_wise(\n",
      "  File \"/Users/ezraapple/miniforge3/envs/berkeley_lab/lib/python3.11/site-packages/sklearn/utils/validation.py\", line 175, in _assert_all_finite_element_wise\n",
      "    raise ValueError(msg_err)\n",
      "ValueError: Input contains NaN.\n",
      "\n",
      "  warnings.warn(\n"
     ]
    },
    {
     "name": "stdout",
     "output_type": "stream",
     "text": [
      "[CV 4/5] END ...............lr=0.1, max_epochs=20;, score=nan total time=   0.5s\n"
     ]
    },
    {
     "name": "stderr",
     "output_type": "stream",
     "text": [
      "/Users/ezraapple/miniforge3/envs/berkeley_lab/lib/python3.11/site-packages/sklearn/model_selection/_validation.py:988: UserWarning: Scoring failed. The score on this train-test partition for these parameters will be set to nan. Details: \n",
      "Traceback (most recent call last):\n",
      "  File \"/Users/ezraapple/miniforge3/envs/berkeley_lab/lib/python3.11/site-packages/sklearn/model_selection/_validation.py\", line 977, in _score\n",
      "    scores = scorer(estimator, X_test, y_test, **score_params)\n",
      "             ^^^^^^^^^^^^^^^^^^^^^^^^^^^^^^^^^^^^^^^^^^^^^^^^^\n",
      "  File \"/Users/ezraapple/miniforge3/envs/berkeley_lab/lib/python3.11/site-packages/sklearn/metrics/_scorer.py\", line 415, in __call__\n",
      "    return estimator.score(*args, **kwargs)\n",
      "           ^^^^^^^^^^^^^^^^^^^^^^^^^^^^^^^^\n",
      "  File \"/Users/ezraapple/miniforge3/envs/berkeley_lab/lib/python3.11/site-packages/sklearn/base.py\", line 849, in score\n",
      "    return r2_score(y, y_pred, sample_weight=sample_weight)\n",
      "           ^^^^^^^^^^^^^^^^^^^^^^^^^^^^^^^^^^^^^^^^^^^^^^^^\n",
      "  File \"/Users/ezraapple/miniforge3/envs/berkeley_lab/lib/python3.11/site-packages/sklearn/utils/_param_validation.py\", line 213, in wrapper\n",
      "    return func(*args, **kwargs)\n",
      "           ^^^^^^^^^^^^^^^^^^^^^\n",
      "  File \"/Users/ezraapple/miniforge3/envs/berkeley_lab/lib/python3.11/site-packages/sklearn/metrics/_regression.py\", line 1180, in r2_score\n",
      "    y_type, y_true, y_pred, multioutput = _check_reg_targets(\n",
      "                                          ^^^^^^^^^^^^^^^^^^^\n",
      "  File \"/Users/ezraapple/miniforge3/envs/berkeley_lab/lib/python3.11/site-packages/sklearn/metrics/_regression.py\", line 104, in _check_reg_targets\n",
      "    y_pred = check_array(y_pred, ensure_2d=False, dtype=dtype)\n",
      "             ^^^^^^^^^^^^^^^^^^^^^^^^^^^^^^^^^^^^^^^^^^^^^^^^^\n",
      "  File \"/Users/ezraapple/miniforge3/envs/berkeley_lab/lib/python3.11/site-packages/sklearn/utils/validation.py\", line 1003, in check_array\n",
      "    _assert_all_finite(\n",
      "  File \"/Users/ezraapple/miniforge3/envs/berkeley_lab/lib/python3.11/site-packages/sklearn/utils/validation.py\", line 126, in _assert_all_finite\n",
      "    _assert_all_finite_element_wise(\n",
      "  File \"/Users/ezraapple/miniforge3/envs/berkeley_lab/lib/python3.11/site-packages/sklearn/utils/validation.py\", line 175, in _assert_all_finite_element_wise\n",
      "    raise ValueError(msg_err)\n",
      "ValueError: Input contains NaN.\n",
      "\n",
      "  warnings.warn(\n"
     ]
    },
    {
     "name": "stdout",
     "output_type": "stream",
     "text": [
      "[CV 5/5] END ...............lr=0.1, max_epochs=20;, score=nan total time=   0.5s\n"
     ]
    },
    {
     "name": "stderr",
     "output_type": "stream",
     "text": [
      "/Users/ezraapple/miniforge3/envs/berkeley_lab/lib/python3.11/site-packages/sklearn/model_selection/_validation.py:988: UserWarning: Scoring failed. The score on this train-test partition for these parameters will be set to nan. Details: \n",
      "Traceback (most recent call last):\n",
      "  File \"/Users/ezraapple/miniforge3/envs/berkeley_lab/lib/python3.11/site-packages/sklearn/model_selection/_validation.py\", line 977, in _score\n",
      "    scores = scorer(estimator, X_test, y_test, **score_params)\n",
      "             ^^^^^^^^^^^^^^^^^^^^^^^^^^^^^^^^^^^^^^^^^^^^^^^^^\n",
      "  File \"/Users/ezraapple/miniforge3/envs/berkeley_lab/lib/python3.11/site-packages/sklearn/metrics/_scorer.py\", line 415, in __call__\n",
      "    return estimator.score(*args, **kwargs)\n",
      "           ^^^^^^^^^^^^^^^^^^^^^^^^^^^^^^^^\n",
      "  File \"/Users/ezraapple/miniforge3/envs/berkeley_lab/lib/python3.11/site-packages/sklearn/base.py\", line 849, in score\n",
      "    return r2_score(y, y_pred, sample_weight=sample_weight)\n",
      "           ^^^^^^^^^^^^^^^^^^^^^^^^^^^^^^^^^^^^^^^^^^^^^^^^\n",
      "  File \"/Users/ezraapple/miniforge3/envs/berkeley_lab/lib/python3.11/site-packages/sklearn/utils/_param_validation.py\", line 213, in wrapper\n",
      "    return func(*args, **kwargs)\n",
      "           ^^^^^^^^^^^^^^^^^^^^^\n",
      "  File \"/Users/ezraapple/miniforge3/envs/berkeley_lab/lib/python3.11/site-packages/sklearn/metrics/_regression.py\", line 1180, in r2_score\n",
      "    y_type, y_true, y_pred, multioutput = _check_reg_targets(\n",
      "                                          ^^^^^^^^^^^^^^^^^^^\n",
      "  File \"/Users/ezraapple/miniforge3/envs/berkeley_lab/lib/python3.11/site-packages/sklearn/metrics/_regression.py\", line 104, in _check_reg_targets\n",
      "    y_pred = check_array(y_pred, ensure_2d=False, dtype=dtype)\n",
      "             ^^^^^^^^^^^^^^^^^^^^^^^^^^^^^^^^^^^^^^^^^^^^^^^^^\n",
      "  File \"/Users/ezraapple/miniforge3/envs/berkeley_lab/lib/python3.11/site-packages/sklearn/utils/validation.py\", line 1003, in check_array\n",
      "    _assert_all_finite(\n",
      "  File \"/Users/ezraapple/miniforge3/envs/berkeley_lab/lib/python3.11/site-packages/sklearn/utils/validation.py\", line 126, in _assert_all_finite\n",
      "    _assert_all_finite_element_wise(\n",
      "  File \"/Users/ezraapple/miniforge3/envs/berkeley_lab/lib/python3.11/site-packages/sklearn/utils/validation.py\", line 175, in _assert_all_finite_element_wise\n",
      "    raise ValueError(msg_err)\n",
      "ValueError: Input contains NaN.\n",
      "\n",
      "  warnings.warn(\n"
     ]
    },
    {
     "name": "stdout",
     "output_type": "stream",
     "text": [
      "[CV 1/5] END ...............lr=0.1, max_epochs=50;, score=nan total time=   1.2s\n"
     ]
    },
    {
     "name": "stderr",
     "output_type": "stream",
     "text": [
      "/Users/ezraapple/miniforge3/envs/berkeley_lab/lib/python3.11/site-packages/sklearn/model_selection/_validation.py:988: UserWarning: Scoring failed. The score on this train-test partition for these parameters will be set to nan. Details: \n",
      "Traceback (most recent call last):\n",
      "  File \"/Users/ezraapple/miniforge3/envs/berkeley_lab/lib/python3.11/site-packages/sklearn/model_selection/_validation.py\", line 977, in _score\n",
      "    scores = scorer(estimator, X_test, y_test, **score_params)\n",
      "             ^^^^^^^^^^^^^^^^^^^^^^^^^^^^^^^^^^^^^^^^^^^^^^^^^\n",
      "  File \"/Users/ezraapple/miniforge3/envs/berkeley_lab/lib/python3.11/site-packages/sklearn/metrics/_scorer.py\", line 415, in __call__\n",
      "    return estimator.score(*args, **kwargs)\n",
      "           ^^^^^^^^^^^^^^^^^^^^^^^^^^^^^^^^\n",
      "  File \"/Users/ezraapple/miniforge3/envs/berkeley_lab/lib/python3.11/site-packages/sklearn/base.py\", line 849, in score\n",
      "    return r2_score(y, y_pred, sample_weight=sample_weight)\n",
      "           ^^^^^^^^^^^^^^^^^^^^^^^^^^^^^^^^^^^^^^^^^^^^^^^^\n",
      "  File \"/Users/ezraapple/miniforge3/envs/berkeley_lab/lib/python3.11/site-packages/sklearn/utils/_param_validation.py\", line 213, in wrapper\n",
      "    return func(*args, **kwargs)\n",
      "           ^^^^^^^^^^^^^^^^^^^^^\n",
      "  File \"/Users/ezraapple/miniforge3/envs/berkeley_lab/lib/python3.11/site-packages/sklearn/metrics/_regression.py\", line 1180, in r2_score\n",
      "    y_type, y_true, y_pred, multioutput = _check_reg_targets(\n",
      "                                          ^^^^^^^^^^^^^^^^^^^\n",
      "  File \"/Users/ezraapple/miniforge3/envs/berkeley_lab/lib/python3.11/site-packages/sklearn/metrics/_regression.py\", line 104, in _check_reg_targets\n",
      "    y_pred = check_array(y_pred, ensure_2d=False, dtype=dtype)\n",
      "             ^^^^^^^^^^^^^^^^^^^^^^^^^^^^^^^^^^^^^^^^^^^^^^^^^\n",
      "  File \"/Users/ezraapple/miniforge3/envs/berkeley_lab/lib/python3.11/site-packages/sklearn/utils/validation.py\", line 1003, in check_array\n",
      "    _assert_all_finite(\n",
      "  File \"/Users/ezraapple/miniforge3/envs/berkeley_lab/lib/python3.11/site-packages/sklearn/utils/validation.py\", line 126, in _assert_all_finite\n",
      "    _assert_all_finite_element_wise(\n",
      "  File \"/Users/ezraapple/miniforge3/envs/berkeley_lab/lib/python3.11/site-packages/sklearn/utils/validation.py\", line 175, in _assert_all_finite_element_wise\n",
      "    raise ValueError(msg_err)\n",
      "ValueError: Input contains NaN.\n",
      "\n",
      "  warnings.warn(\n"
     ]
    },
    {
     "name": "stdout",
     "output_type": "stream",
     "text": [
      "[CV 2/5] END ...............lr=0.1, max_epochs=50;, score=nan total time=   1.2s\n"
     ]
    },
    {
     "name": "stderr",
     "output_type": "stream",
     "text": [
      "/Users/ezraapple/miniforge3/envs/berkeley_lab/lib/python3.11/site-packages/sklearn/model_selection/_validation.py:988: UserWarning: Scoring failed. The score on this train-test partition for these parameters will be set to nan. Details: \n",
      "Traceback (most recent call last):\n",
      "  File \"/Users/ezraapple/miniforge3/envs/berkeley_lab/lib/python3.11/site-packages/sklearn/model_selection/_validation.py\", line 977, in _score\n",
      "    scores = scorer(estimator, X_test, y_test, **score_params)\n",
      "             ^^^^^^^^^^^^^^^^^^^^^^^^^^^^^^^^^^^^^^^^^^^^^^^^^\n",
      "  File \"/Users/ezraapple/miniforge3/envs/berkeley_lab/lib/python3.11/site-packages/sklearn/metrics/_scorer.py\", line 415, in __call__\n",
      "    return estimator.score(*args, **kwargs)\n",
      "           ^^^^^^^^^^^^^^^^^^^^^^^^^^^^^^^^\n",
      "  File \"/Users/ezraapple/miniforge3/envs/berkeley_lab/lib/python3.11/site-packages/sklearn/base.py\", line 849, in score\n",
      "    return r2_score(y, y_pred, sample_weight=sample_weight)\n",
      "           ^^^^^^^^^^^^^^^^^^^^^^^^^^^^^^^^^^^^^^^^^^^^^^^^\n",
      "  File \"/Users/ezraapple/miniforge3/envs/berkeley_lab/lib/python3.11/site-packages/sklearn/utils/_param_validation.py\", line 213, in wrapper\n",
      "    return func(*args, **kwargs)\n",
      "           ^^^^^^^^^^^^^^^^^^^^^\n",
      "  File \"/Users/ezraapple/miniforge3/envs/berkeley_lab/lib/python3.11/site-packages/sklearn/metrics/_regression.py\", line 1180, in r2_score\n",
      "    y_type, y_true, y_pred, multioutput = _check_reg_targets(\n",
      "                                          ^^^^^^^^^^^^^^^^^^^\n",
      "  File \"/Users/ezraapple/miniforge3/envs/berkeley_lab/lib/python3.11/site-packages/sklearn/metrics/_regression.py\", line 104, in _check_reg_targets\n",
      "    y_pred = check_array(y_pred, ensure_2d=False, dtype=dtype)\n",
      "             ^^^^^^^^^^^^^^^^^^^^^^^^^^^^^^^^^^^^^^^^^^^^^^^^^\n",
      "  File \"/Users/ezraapple/miniforge3/envs/berkeley_lab/lib/python3.11/site-packages/sklearn/utils/validation.py\", line 1003, in check_array\n",
      "    _assert_all_finite(\n",
      "  File \"/Users/ezraapple/miniforge3/envs/berkeley_lab/lib/python3.11/site-packages/sklearn/utils/validation.py\", line 126, in _assert_all_finite\n",
      "    _assert_all_finite_element_wise(\n",
      "  File \"/Users/ezraapple/miniforge3/envs/berkeley_lab/lib/python3.11/site-packages/sklearn/utils/validation.py\", line 175, in _assert_all_finite_element_wise\n",
      "    raise ValueError(msg_err)\n",
      "ValueError: Input contains NaN.\n",
      "\n",
      "  warnings.warn(\n"
     ]
    },
    {
     "name": "stdout",
     "output_type": "stream",
     "text": [
      "[CV 3/5] END ...............lr=0.1, max_epochs=50;, score=nan total time=   1.1s\n"
     ]
    },
    {
     "name": "stderr",
     "output_type": "stream",
     "text": [
      "/Users/ezraapple/miniforge3/envs/berkeley_lab/lib/python3.11/site-packages/sklearn/model_selection/_validation.py:988: UserWarning: Scoring failed. The score on this train-test partition for these parameters will be set to nan. Details: \n",
      "Traceback (most recent call last):\n",
      "  File \"/Users/ezraapple/miniforge3/envs/berkeley_lab/lib/python3.11/site-packages/sklearn/model_selection/_validation.py\", line 977, in _score\n",
      "    scores = scorer(estimator, X_test, y_test, **score_params)\n",
      "             ^^^^^^^^^^^^^^^^^^^^^^^^^^^^^^^^^^^^^^^^^^^^^^^^^\n",
      "  File \"/Users/ezraapple/miniforge3/envs/berkeley_lab/lib/python3.11/site-packages/sklearn/metrics/_scorer.py\", line 415, in __call__\n",
      "    return estimator.score(*args, **kwargs)\n",
      "           ^^^^^^^^^^^^^^^^^^^^^^^^^^^^^^^^\n",
      "  File \"/Users/ezraapple/miniforge3/envs/berkeley_lab/lib/python3.11/site-packages/sklearn/base.py\", line 849, in score\n",
      "    return r2_score(y, y_pred, sample_weight=sample_weight)\n",
      "           ^^^^^^^^^^^^^^^^^^^^^^^^^^^^^^^^^^^^^^^^^^^^^^^^\n",
      "  File \"/Users/ezraapple/miniforge3/envs/berkeley_lab/lib/python3.11/site-packages/sklearn/utils/_param_validation.py\", line 213, in wrapper\n",
      "    return func(*args, **kwargs)\n",
      "           ^^^^^^^^^^^^^^^^^^^^^\n",
      "  File \"/Users/ezraapple/miniforge3/envs/berkeley_lab/lib/python3.11/site-packages/sklearn/metrics/_regression.py\", line 1180, in r2_score\n",
      "    y_type, y_true, y_pred, multioutput = _check_reg_targets(\n",
      "                                          ^^^^^^^^^^^^^^^^^^^\n",
      "  File \"/Users/ezraapple/miniforge3/envs/berkeley_lab/lib/python3.11/site-packages/sklearn/metrics/_regression.py\", line 104, in _check_reg_targets\n",
      "    y_pred = check_array(y_pred, ensure_2d=False, dtype=dtype)\n",
      "             ^^^^^^^^^^^^^^^^^^^^^^^^^^^^^^^^^^^^^^^^^^^^^^^^^\n",
      "  File \"/Users/ezraapple/miniforge3/envs/berkeley_lab/lib/python3.11/site-packages/sklearn/utils/validation.py\", line 1003, in check_array\n",
      "    _assert_all_finite(\n",
      "  File \"/Users/ezraapple/miniforge3/envs/berkeley_lab/lib/python3.11/site-packages/sklearn/utils/validation.py\", line 126, in _assert_all_finite\n",
      "    _assert_all_finite_element_wise(\n",
      "  File \"/Users/ezraapple/miniforge3/envs/berkeley_lab/lib/python3.11/site-packages/sklearn/utils/validation.py\", line 175, in _assert_all_finite_element_wise\n",
      "    raise ValueError(msg_err)\n",
      "ValueError: Input contains NaN.\n",
      "\n",
      "  warnings.warn(\n"
     ]
    },
    {
     "name": "stdout",
     "output_type": "stream",
     "text": [
      "[CV 4/5] END ...............lr=0.1, max_epochs=50;, score=nan total time=   1.1s\n"
     ]
    },
    {
     "name": "stderr",
     "output_type": "stream",
     "text": [
      "/Users/ezraapple/miniforge3/envs/berkeley_lab/lib/python3.11/site-packages/sklearn/model_selection/_validation.py:988: UserWarning: Scoring failed. The score on this train-test partition for these parameters will be set to nan. Details: \n",
      "Traceback (most recent call last):\n",
      "  File \"/Users/ezraapple/miniforge3/envs/berkeley_lab/lib/python3.11/site-packages/sklearn/model_selection/_validation.py\", line 977, in _score\n",
      "    scores = scorer(estimator, X_test, y_test, **score_params)\n",
      "             ^^^^^^^^^^^^^^^^^^^^^^^^^^^^^^^^^^^^^^^^^^^^^^^^^\n",
      "  File \"/Users/ezraapple/miniforge3/envs/berkeley_lab/lib/python3.11/site-packages/sklearn/metrics/_scorer.py\", line 415, in __call__\n",
      "    return estimator.score(*args, **kwargs)\n",
      "           ^^^^^^^^^^^^^^^^^^^^^^^^^^^^^^^^\n",
      "  File \"/Users/ezraapple/miniforge3/envs/berkeley_lab/lib/python3.11/site-packages/sklearn/base.py\", line 849, in score\n",
      "    return r2_score(y, y_pred, sample_weight=sample_weight)\n",
      "           ^^^^^^^^^^^^^^^^^^^^^^^^^^^^^^^^^^^^^^^^^^^^^^^^\n",
      "  File \"/Users/ezraapple/miniforge3/envs/berkeley_lab/lib/python3.11/site-packages/sklearn/utils/_param_validation.py\", line 213, in wrapper\n",
      "    return func(*args, **kwargs)\n",
      "           ^^^^^^^^^^^^^^^^^^^^^\n",
      "  File \"/Users/ezraapple/miniforge3/envs/berkeley_lab/lib/python3.11/site-packages/sklearn/metrics/_regression.py\", line 1180, in r2_score\n",
      "    y_type, y_true, y_pred, multioutput = _check_reg_targets(\n",
      "                                          ^^^^^^^^^^^^^^^^^^^\n",
      "  File \"/Users/ezraapple/miniforge3/envs/berkeley_lab/lib/python3.11/site-packages/sklearn/metrics/_regression.py\", line 104, in _check_reg_targets\n",
      "    y_pred = check_array(y_pred, ensure_2d=False, dtype=dtype)\n",
      "             ^^^^^^^^^^^^^^^^^^^^^^^^^^^^^^^^^^^^^^^^^^^^^^^^^\n",
      "  File \"/Users/ezraapple/miniforge3/envs/berkeley_lab/lib/python3.11/site-packages/sklearn/utils/validation.py\", line 1003, in check_array\n",
      "    _assert_all_finite(\n",
      "  File \"/Users/ezraapple/miniforge3/envs/berkeley_lab/lib/python3.11/site-packages/sklearn/utils/validation.py\", line 126, in _assert_all_finite\n",
      "    _assert_all_finite_element_wise(\n",
      "  File \"/Users/ezraapple/miniforge3/envs/berkeley_lab/lib/python3.11/site-packages/sklearn/utils/validation.py\", line 175, in _assert_all_finite_element_wise\n",
      "    raise ValueError(msg_err)\n",
      "ValueError: Input contains NaN.\n",
      "\n",
      "  warnings.warn(\n"
     ]
    },
    {
     "name": "stdout",
     "output_type": "stream",
     "text": [
      "[CV 5/5] END ...............lr=0.1, max_epochs=50;, score=nan total time=   1.2s\n"
     ]
    },
    {
     "name": "stderr",
     "output_type": "stream",
     "text": [
      "/Users/ezraapple/miniforge3/envs/berkeley_lab/lib/python3.11/site-packages/sklearn/model_selection/_validation.py:988: UserWarning: Scoring failed. The score on this train-test partition for these parameters will be set to nan. Details: \n",
      "Traceback (most recent call last):\n",
      "  File \"/Users/ezraapple/miniforge3/envs/berkeley_lab/lib/python3.11/site-packages/sklearn/model_selection/_validation.py\", line 977, in _score\n",
      "    scores = scorer(estimator, X_test, y_test, **score_params)\n",
      "             ^^^^^^^^^^^^^^^^^^^^^^^^^^^^^^^^^^^^^^^^^^^^^^^^^\n",
      "  File \"/Users/ezraapple/miniforge3/envs/berkeley_lab/lib/python3.11/site-packages/sklearn/metrics/_scorer.py\", line 415, in __call__\n",
      "    return estimator.score(*args, **kwargs)\n",
      "           ^^^^^^^^^^^^^^^^^^^^^^^^^^^^^^^^\n",
      "  File \"/Users/ezraapple/miniforge3/envs/berkeley_lab/lib/python3.11/site-packages/sklearn/base.py\", line 849, in score\n",
      "    return r2_score(y, y_pred, sample_weight=sample_weight)\n",
      "           ^^^^^^^^^^^^^^^^^^^^^^^^^^^^^^^^^^^^^^^^^^^^^^^^\n",
      "  File \"/Users/ezraapple/miniforge3/envs/berkeley_lab/lib/python3.11/site-packages/sklearn/utils/_param_validation.py\", line 213, in wrapper\n",
      "    return func(*args, **kwargs)\n",
      "           ^^^^^^^^^^^^^^^^^^^^^\n",
      "  File \"/Users/ezraapple/miniforge3/envs/berkeley_lab/lib/python3.11/site-packages/sklearn/metrics/_regression.py\", line 1180, in r2_score\n",
      "    y_type, y_true, y_pred, multioutput = _check_reg_targets(\n",
      "                                          ^^^^^^^^^^^^^^^^^^^\n",
      "  File \"/Users/ezraapple/miniforge3/envs/berkeley_lab/lib/python3.11/site-packages/sklearn/metrics/_regression.py\", line 104, in _check_reg_targets\n",
      "    y_pred = check_array(y_pred, ensure_2d=False, dtype=dtype)\n",
      "             ^^^^^^^^^^^^^^^^^^^^^^^^^^^^^^^^^^^^^^^^^^^^^^^^^\n",
      "  File \"/Users/ezraapple/miniforge3/envs/berkeley_lab/lib/python3.11/site-packages/sklearn/utils/validation.py\", line 1003, in check_array\n",
      "    _assert_all_finite(\n",
      "  File \"/Users/ezraapple/miniforge3/envs/berkeley_lab/lib/python3.11/site-packages/sklearn/utils/validation.py\", line 126, in _assert_all_finite\n",
      "    _assert_all_finite_element_wise(\n",
      "  File \"/Users/ezraapple/miniforge3/envs/berkeley_lab/lib/python3.11/site-packages/sklearn/utils/validation.py\", line 175, in _assert_all_finite_element_wise\n",
      "    raise ValueError(msg_err)\n",
      "ValueError: Input contains NaN.\n",
      "\n",
      "  warnings.warn(\n"
     ]
    },
    {
     "name": "stdout",
     "output_type": "stream",
     "text": [
      "[CV 1/5] END ..............lr=0.01, max_epochs=10;, score=nan total time=   0.2s\n"
     ]
    },
    {
     "name": "stderr",
     "output_type": "stream",
     "text": [
      "/Users/ezraapple/miniforge3/envs/berkeley_lab/lib/python3.11/site-packages/sklearn/model_selection/_validation.py:988: UserWarning: Scoring failed. The score on this train-test partition for these parameters will be set to nan. Details: \n",
      "Traceback (most recent call last):\n",
      "  File \"/Users/ezraapple/miniforge3/envs/berkeley_lab/lib/python3.11/site-packages/sklearn/model_selection/_validation.py\", line 977, in _score\n",
      "    scores = scorer(estimator, X_test, y_test, **score_params)\n",
      "             ^^^^^^^^^^^^^^^^^^^^^^^^^^^^^^^^^^^^^^^^^^^^^^^^^\n",
      "  File \"/Users/ezraapple/miniforge3/envs/berkeley_lab/lib/python3.11/site-packages/sklearn/metrics/_scorer.py\", line 415, in __call__\n",
      "    return estimator.score(*args, **kwargs)\n",
      "           ^^^^^^^^^^^^^^^^^^^^^^^^^^^^^^^^\n",
      "  File \"/Users/ezraapple/miniforge3/envs/berkeley_lab/lib/python3.11/site-packages/sklearn/base.py\", line 849, in score\n",
      "    return r2_score(y, y_pred, sample_weight=sample_weight)\n",
      "           ^^^^^^^^^^^^^^^^^^^^^^^^^^^^^^^^^^^^^^^^^^^^^^^^\n",
      "  File \"/Users/ezraapple/miniforge3/envs/berkeley_lab/lib/python3.11/site-packages/sklearn/utils/_param_validation.py\", line 213, in wrapper\n",
      "    return func(*args, **kwargs)\n",
      "           ^^^^^^^^^^^^^^^^^^^^^\n",
      "  File \"/Users/ezraapple/miniforge3/envs/berkeley_lab/lib/python3.11/site-packages/sklearn/metrics/_regression.py\", line 1180, in r2_score\n",
      "    y_type, y_true, y_pred, multioutput = _check_reg_targets(\n",
      "                                          ^^^^^^^^^^^^^^^^^^^\n",
      "  File \"/Users/ezraapple/miniforge3/envs/berkeley_lab/lib/python3.11/site-packages/sklearn/metrics/_regression.py\", line 104, in _check_reg_targets\n",
      "    y_pred = check_array(y_pred, ensure_2d=False, dtype=dtype)\n",
      "             ^^^^^^^^^^^^^^^^^^^^^^^^^^^^^^^^^^^^^^^^^^^^^^^^^\n",
      "  File \"/Users/ezraapple/miniforge3/envs/berkeley_lab/lib/python3.11/site-packages/sklearn/utils/validation.py\", line 1003, in check_array\n",
      "    _assert_all_finite(\n",
      "  File \"/Users/ezraapple/miniforge3/envs/berkeley_lab/lib/python3.11/site-packages/sklearn/utils/validation.py\", line 126, in _assert_all_finite\n",
      "    _assert_all_finite_element_wise(\n",
      "  File \"/Users/ezraapple/miniforge3/envs/berkeley_lab/lib/python3.11/site-packages/sklearn/utils/validation.py\", line 175, in _assert_all_finite_element_wise\n",
      "    raise ValueError(msg_err)\n",
      "ValueError: Input contains NaN.\n",
      "\n",
      "  warnings.warn(\n"
     ]
    },
    {
     "name": "stdout",
     "output_type": "stream",
     "text": [
      "[CV 2/5] END ...........lr=0.01, max_epochs=10;, score=-0.460 total time=   0.2s\n",
      "[CV 3/5] END ......lr=0.01, max_epochs=10;, score=-179751.505 total time=   0.2s\n",
      "[CV 4/5] END ...........lr=0.01, max_epochs=10;, score=-0.015 total time=   0.2s\n",
      "[CV 5/5] END .........lr=0.01, max_epochs=10;, score=-591.946 total time=   0.2s\n",
      "[CV 1/5] END ..............lr=0.01, max_epochs=20;, score=nan total time=   0.5s\n"
     ]
    },
    {
     "name": "stderr",
     "output_type": "stream",
     "text": [
      "/Users/ezraapple/miniforge3/envs/berkeley_lab/lib/python3.11/site-packages/sklearn/model_selection/_validation.py:988: UserWarning: Scoring failed. The score on this train-test partition for these parameters will be set to nan. Details: \n",
      "Traceback (most recent call last):\n",
      "  File \"/Users/ezraapple/miniforge3/envs/berkeley_lab/lib/python3.11/site-packages/sklearn/model_selection/_validation.py\", line 977, in _score\n",
      "    scores = scorer(estimator, X_test, y_test, **score_params)\n",
      "             ^^^^^^^^^^^^^^^^^^^^^^^^^^^^^^^^^^^^^^^^^^^^^^^^^\n",
      "  File \"/Users/ezraapple/miniforge3/envs/berkeley_lab/lib/python3.11/site-packages/sklearn/metrics/_scorer.py\", line 415, in __call__\n",
      "    return estimator.score(*args, **kwargs)\n",
      "           ^^^^^^^^^^^^^^^^^^^^^^^^^^^^^^^^\n",
      "  File \"/Users/ezraapple/miniforge3/envs/berkeley_lab/lib/python3.11/site-packages/sklearn/base.py\", line 849, in score\n",
      "    return r2_score(y, y_pred, sample_weight=sample_weight)\n",
      "           ^^^^^^^^^^^^^^^^^^^^^^^^^^^^^^^^^^^^^^^^^^^^^^^^\n",
      "  File \"/Users/ezraapple/miniforge3/envs/berkeley_lab/lib/python3.11/site-packages/sklearn/utils/_param_validation.py\", line 213, in wrapper\n",
      "    return func(*args, **kwargs)\n",
      "           ^^^^^^^^^^^^^^^^^^^^^\n",
      "  File \"/Users/ezraapple/miniforge3/envs/berkeley_lab/lib/python3.11/site-packages/sklearn/metrics/_regression.py\", line 1180, in r2_score\n",
      "    y_type, y_true, y_pred, multioutput = _check_reg_targets(\n",
      "                                          ^^^^^^^^^^^^^^^^^^^\n",
      "  File \"/Users/ezraapple/miniforge3/envs/berkeley_lab/lib/python3.11/site-packages/sklearn/metrics/_regression.py\", line 104, in _check_reg_targets\n",
      "    y_pred = check_array(y_pred, ensure_2d=False, dtype=dtype)\n",
      "             ^^^^^^^^^^^^^^^^^^^^^^^^^^^^^^^^^^^^^^^^^^^^^^^^^\n",
      "  File \"/Users/ezraapple/miniforge3/envs/berkeley_lab/lib/python3.11/site-packages/sklearn/utils/validation.py\", line 1003, in check_array\n",
      "    _assert_all_finite(\n",
      "  File \"/Users/ezraapple/miniforge3/envs/berkeley_lab/lib/python3.11/site-packages/sklearn/utils/validation.py\", line 126, in _assert_all_finite\n",
      "    _assert_all_finite_element_wise(\n",
      "  File \"/Users/ezraapple/miniforge3/envs/berkeley_lab/lib/python3.11/site-packages/sklearn/utils/validation.py\", line 175, in _assert_all_finite_element_wise\n",
      "    raise ValueError(msg_err)\n",
      "ValueError: Input contains NaN.\n",
      "\n",
      "  warnings.warn(\n"
     ]
    },
    {
     "name": "stdout",
     "output_type": "stream",
     "text": [
      "[CV 2/5] END ...........lr=0.01, max_epochs=20;, score=-0.460 total time=   0.5s\n",
      "[CV 3/5] END .......lr=0.01, max_epochs=20;, score=-73196.103 total time=   0.5s\n",
      "[CV 4/5] END ...........lr=0.01, max_epochs=20;, score=-0.011 total time=   0.5s\n",
      "[CV 5/5] END .........lr=0.01, max_epochs=20;, score=-591.900 total time=   0.5s\n",
      "[CV 1/5] END ..............lr=0.01, max_epochs=50;, score=nan total time=   1.2s\n"
     ]
    },
    {
     "name": "stderr",
     "output_type": "stream",
     "text": [
      "/Users/ezraapple/miniforge3/envs/berkeley_lab/lib/python3.11/site-packages/sklearn/model_selection/_validation.py:988: UserWarning: Scoring failed. The score on this train-test partition for these parameters will be set to nan. Details: \n",
      "Traceback (most recent call last):\n",
      "  File \"/Users/ezraapple/miniforge3/envs/berkeley_lab/lib/python3.11/site-packages/sklearn/model_selection/_validation.py\", line 977, in _score\n",
      "    scores = scorer(estimator, X_test, y_test, **score_params)\n",
      "             ^^^^^^^^^^^^^^^^^^^^^^^^^^^^^^^^^^^^^^^^^^^^^^^^^\n",
      "  File \"/Users/ezraapple/miniforge3/envs/berkeley_lab/lib/python3.11/site-packages/sklearn/metrics/_scorer.py\", line 415, in __call__\n",
      "    return estimator.score(*args, **kwargs)\n",
      "           ^^^^^^^^^^^^^^^^^^^^^^^^^^^^^^^^\n",
      "  File \"/Users/ezraapple/miniforge3/envs/berkeley_lab/lib/python3.11/site-packages/sklearn/base.py\", line 849, in score\n",
      "    return r2_score(y, y_pred, sample_weight=sample_weight)\n",
      "           ^^^^^^^^^^^^^^^^^^^^^^^^^^^^^^^^^^^^^^^^^^^^^^^^\n",
      "  File \"/Users/ezraapple/miniforge3/envs/berkeley_lab/lib/python3.11/site-packages/sklearn/utils/_param_validation.py\", line 213, in wrapper\n",
      "    return func(*args, **kwargs)\n",
      "           ^^^^^^^^^^^^^^^^^^^^^\n",
      "  File \"/Users/ezraapple/miniforge3/envs/berkeley_lab/lib/python3.11/site-packages/sklearn/metrics/_regression.py\", line 1180, in r2_score\n",
      "    y_type, y_true, y_pred, multioutput = _check_reg_targets(\n",
      "                                          ^^^^^^^^^^^^^^^^^^^\n",
      "  File \"/Users/ezraapple/miniforge3/envs/berkeley_lab/lib/python3.11/site-packages/sklearn/metrics/_regression.py\", line 104, in _check_reg_targets\n",
      "    y_pred = check_array(y_pred, ensure_2d=False, dtype=dtype)\n",
      "             ^^^^^^^^^^^^^^^^^^^^^^^^^^^^^^^^^^^^^^^^^^^^^^^^^\n",
      "  File \"/Users/ezraapple/miniforge3/envs/berkeley_lab/lib/python3.11/site-packages/sklearn/utils/validation.py\", line 1003, in check_array\n",
      "    _assert_all_finite(\n",
      "  File \"/Users/ezraapple/miniforge3/envs/berkeley_lab/lib/python3.11/site-packages/sklearn/utils/validation.py\", line 126, in _assert_all_finite\n",
      "    _assert_all_finite_element_wise(\n",
      "  File \"/Users/ezraapple/miniforge3/envs/berkeley_lab/lib/python3.11/site-packages/sklearn/utils/validation.py\", line 175, in _assert_all_finite_element_wise\n",
      "    raise ValueError(msg_err)\n",
      "ValueError: Input contains NaN.\n",
      "\n",
      "  warnings.warn(\n"
     ]
    },
    {
     "name": "stdout",
     "output_type": "stream",
     "text": [
      "[CV 2/5] END ...........lr=0.01, max_epochs=50;, score=-0.460 total time=   1.2s\n",
      "[CV 3/5] END .......lr=0.01, max_epochs=50;, score=-18514.413 total time=   1.2s\n",
      "[CV 4/5] END ...........lr=0.01, max_epochs=50;, score=-0.007 total time=   1.2s\n",
      "[CV 5/5] END .........lr=0.01, max_epochs=50;, score=-591.865 total time=   1.2s\n",
      "[CV 1/5] END .....lr=0.001, max_epochs=10;, score=-395325.134 total time=   0.2s\n",
      "[CV 2/5] END .....lr=0.001, max_epochs=10;, score=-389532.379 total time=   0.2s\n",
      "[CV 3/5] END ....lr=0.001, max_epochs=10;, score=-1902993.551 total time=   0.2s\n",
      "[CV 4/5] END .....lr=0.001, max_epochs=10;, score=-212100.022 total time=   0.2s\n",
      "[CV 5/5] END .....lr=0.001, max_epochs=10;, score=-142317.142 total time=   0.2s\n",
      "[CV 1/5] END .....lr=0.001, max_epochs=20;, score=-209745.553 total time=   0.5s\n",
      "[CV 2/5] END .....lr=0.001, max_epochs=20;, score=-211118.767 total time=   0.5s\n",
      "[CV 3/5] END .....lr=0.001, max_epochs=20;, score=-941215.361 total time=   0.5s\n",
      "[CV 4/5] END .....lr=0.001, max_epochs=20;, score=-100359.549 total time=   0.5s\n",
      "[CV 5/5] END ......lr=0.001, max_epochs=20;, score=-78886.133 total time=   0.5s\n",
      "[CV 1/5] END ......lr=0.001, max_epochs=50;, score=-57092.169 total time=   1.2s\n",
      "[CV 2/5] END ......lr=0.001, max_epochs=50;, score=-56275.368 total time=   1.2s\n",
      "[CV 3/5] END .....lr=0.001, max_epochs=50;, score=-229384.069 total time=   1.1s\n",
      "[CV 4/5] END ......lr=0.001, max_epochs=50;, score=-21658.817 total time=   1.1s\n",
      "[CV 5/5] END ......lr=0.001, max_epochs=50;, score=-20191.452 total time=   1.2s\n",
      "[CV 1/5] END ....lr=0.0001, max_epochs=10;, score=-132386.326 total time=   0.2s\n",
      "[CV 2/5] END ....lr=0.0001, max_epochs=10;, score=-147705.890 total time=   0.2s\n",
      "[CV 3/5] END ...lr=0.0001, max_epochs=10;, score=-1576582.953 total time=   0.2s\n",
      "[CV 4/5] END ....lr=0.0001, max_epochs=10;, score=-125469.620 total time=   0.2s\n",
      "[CV 5/5] END ....lr=0.0001, max_epochs=10;, score=-415376.099 total time=   0.2s\n",
      "[CV 1/5] END ....lr=0.0001, max_epochs=20;, score=-116811.234 total time=   0.5s\n",
      "[CV 2/5] END ....lr=0.0001, max_epochs=20;, score=-129762.529 total time=   0.5s\n",
      "[CV 3/5] END ...lr=0.0001, max_epochs=20;, score=-1471982.307 total time=   0.5s\n",
      "[CV 4/5] END ....lr=0.0001, max_epochs=20;, score=-110325.425 total time=   0.5s\n",
      "[CV 5/5] END ....lr=0.0001, max_epochs=20;, score=-383935.508 total time=   0.5s\n",
      "[CV 1/5] END .....lr=0.0001, max_epochs=50;, score=-84402.091 total time=   1.1s\n",
      "[CV 2/5] END .....lr=0.0001, max_epochs=50;, score=-91592.644 total time=   1.1s\n",
      "[CV 3/5] END ...lr=0.0001, max_epochs=50;, score=-1158585.157 total time=   1.2s\n",
      "[CV 4/5] END .....lr=0.0001, max_epochs=50;, score=-75146.766 total time=   1.2s\n",
      "[CV 5/5] END ....lr=0.0001, max_epochs=50;, score=-301508.357 total time=   1.2s\n",
      "[CV 1/5] END .....lr=1e-05, max_epochs=10;, score=-152993.336 total time=   0.2s\n",
      "[CV 2/5] END .....lr=1e-05, max_epochs=10;, score=-199872.102 total time=   0.2s\n",
      "[CV 3/5] END .....lr=1e-05, max_epochs=10;, score=-217293.665 total time=   0.2s\n",
      "[CV 4/5] END .....lr=1e-05, max_epochs=10;, score=-215197.452 total time=   0.2s\n",
      "[CV 5/5] END .....lr=1e-05, max_epochs=10;, score=-568327.026 total time=   0.2s\n",
      "[CV 1/5] END .....lr=1e-05, max_epochs=20;, score=-129839.494 total time=   0.5s\n",
      "[CV 2/5] END .....lr=1e-05, max_epochs=20;, score=-164186.484 total time=   0.5s\n",
      "[CV 3/5] END .....lr=1e-05, max_epochs=20;, score=-811934.378 total time=   0.5s\n",
      "[CV 4/5] END .....lr=1e-05, max_epochs=20;, score=-169807.689 total time=   0.5s\n",
      "[CV 5/5] END .....lr=1e-05, max_epochs=20;, score=-474419.060 total time=   0.5s\n",
      "[CV 1/5] END .....lr=1e-05, max_epochs=50;, score=-121997.646 total time=   1.2s\n",
      "[CV 2/5] END .....lr=1e-05, max_epochs=50;, score=-153677.526 total time=   1.2s\n",
      "[CV 3/5] END ....lr=1e-05, max_epochs=50;, score=-1239328.916 total time=   1.2s\n",
      "[CV 4/5] END .....lr=1e-05, max_epochs=50;, score=-159270.882 total time=   1.2s\n",
      "[CV 5/5] END .....lr=1e-05, max_epochs=50;, score=-459200.646 total time=   1.1s\n"
     ]
    },
    {
     "name": "stderr",
     "output_type": "stream",
     "text": [
      "/Users/ezraapple/miniforge3/envs/berkeley_lab/lib/python3.11/site-packages/sklearn/model_selection/_search.py:1051: UserWarning: One or more of the test scores are non-finite: [             nan              nan              nan              nan\n",
      "              nan              nan -608453.64547225 -308265.07250219\n",
      "  -76920.37494858 -479504.17769749 -442563.40059388 -342247.00287271\n",
      " -270736.71619508 -350037.42095291 -426695.12319297]\n",
      "  warnings.warn(\n"
     ]
    },
    {
     "name": "stdout",
     "output_type": "stream",
     "text": [
      "Best model hyperparameters:\n",
      "lr: 0.001\n",
      "max_epochs: 50\n"
     ]
    }
   ],
   "source": [
    "torch_tuner.tune(X, y)"
   ],
   "metadata": {
    "collapsed": false,
    "ExecuteTime": {
     "end_time": "2024-02-06T00:29:52.069350Z",
     "start_time": "2024-02-06T00:29:03.670807Z"
    }
   },
   "id": "dd91a53391016489",
   "execution_count": 8
  }
 ],
 "metadata": {
  "kernelspec": {
   "display_name": "Python 3",
   "language": "python",
   "name": "python3"
  },
  "language_info": {
   "codemirror_mode": {
    "name": "ipython",
    "version": 2
   },
   "file_extension": ".py",
   "mimetype": "text/x-python",
   "name": "python",
   "nbconvert_exporter": "python",
   "pygments_lexer": "ipython2",
   "version": "2.7.6"
  }
 },
 "nbformat": 4,
 "nbformat_minor": 5
}
